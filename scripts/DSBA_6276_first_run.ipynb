{
  "nbformat": 4,
  "nbformat_minor": 0,
  "metadata": {
    "colab": {
      "provenance": []
    },
    "kernelspec": {
      "name": "python3",
      "display_name": "Python 3"
    },
    "language_info": {
      "name": "python"
    }
  },
  "cells": [
    {
      "cell_type": "code",
      "source": [
        "import pandas as pd\n",
        "import numpy as np\n",
        "\n",
        "# Modeling pieces\n",
        "from sklearn.model_selection import train_test_split\n",
        "from sklearn.preprocessing import StandardScaler\n",
        "from sklearn.cluster import KMeans\n",
        "from sklearn.linear_model import LogisticRegression\n",
        "from sklearn.metrics import roc_auc_score"
      ],
      "metadata": {
        "id": "rKqLVjK99le6"
      },
      "execution_count": 2,
      "outputs": []
    },
    {
      "cell_type": "code",
      "source": [
        "# 1) Load the data\n",
        "df = pd.read_csv(\"bank_cleaned.csv\")\n",
        "print(\"First 5 rows:\")\n",
        "print(df.head())"
      ],
      "metadata": {
        "colab": {
          "base_uri": "https://localhost:8080/"
        },
        "id": "67ShNsT-9sMC",
        "outputId": "adde33ea-f4f2-4248-ffd4-54ecf6c3993b"
      },
      "execution_count": 3,
      "outputs": [
        {
          "output_type": "stream",
          "name": "stdout",
          "text": [
            "First 5 rows:\n",
            "   Unnamed: 0  age           job  marital  education default  balance housing  \\\n",
            "0           0   58    management  married   tertiary      no     2143     yes   \n",
            "1           1   44    technician   single  secondary      no       29     yes   \n",
            "2           2   33  entrepreneur  married  secondary      no        2     yes   \n",
            "3           5   35    management  married   tertiary      no      231     yes   \n",
            "4           6   28    management   single   tertiary      no      447     yes   \n",
            "\n",
            "  loan  day month  duration  campaign  pdays  previous poutcome response  \\\n",
            "0   no    5   may      4.35         1     -1         0  unknown       no   \n",
            "1   no    5   may      2.52         1     -1         0  unknown       no   \n",
            "2  yes    5   may      1.27         1     -1         0  unknown       no   \n",
            "3   no    5   may      2.32         1     -1         0  unknown       no   \n",
            "4  yes    5   may      3.62         1     -1         0  unknown       no   \n",
            "\n",
            "   response_binary  \n",
            "0                0  \n",
            "1                0  \n",
            "2                0  \n",
            "3                0  \n",
            "4                0  \n"
          ]
        }
      ]
    },
    {
      "cell_type": "code",
      "source": [
        "# 2) Make a churn column\n",
        "# response_binary: 1=subscribed, 0=did not subscribe\n",
        "# Let's define churn = 1 if did not subscribe, else 0\n",
        "df[\"churn\"] = df[\"response_binary\"].apply(lambda x: 1 if x == 0 else 0)"
      ],
      "metadata": {
        "id": "c8UgqWgm9znu"
      },
      "execution_count": 4,
      "outputs": []
    },
    {
      "cell_type": "code",
      "source": [
        "# 3) Pick features\n",
        "cols_to_drop = [\"Unnamed: 0\", \"response\", \"response_binary\", \"churn\"]\n",
        "if \"duration\" in df.columns:  # duration is known after the call; drop for fair modeling\n",
        "    cols_to_drop.append(\"duration\")\n",
        "\n",
        "X = df.drop(columns=[c for c in cols_to_drop if c in df.columns]).copy()\n",
        "y = df[\"churn\"].copy()\n"
      ],
      "metadata": {
        "id": "U0u6AiYv97XS"
      },
      "execution_count": 5,
      "outputs": []
    },
    {
      "cell_type": "code",
      "source": [
        "# 4) One-hot encode categoricals (easy)\n",
        "X = pd.get_dummies(X, drop_first=True)"
      ],
      "metadata": {
        "id": "zUQFZ5mr-FH_"
      },
      "execution_count": 6,
      "outputs": []
    },
    {
      "cell_type": "code",
      "source": [
        "# 5) SAMPLE to 2,000 rows (keeps it fast)\n",
        "N = min(2000, len(X))\n",
        "X_small = X.sample(n=N, random_state=42)\n",
        "y_small = y.loc[X_small.index]"
      ],
      "metadata": {
        "id": "V5u_Ry6J-KXw"
      },
      "execution_count": 7,
      "outputs": []
    },
    {
      "cell_type": "code",
      "source": [
        "# 6) Scale features (helps KMeans and Logistic Regression)\n",
        "scaler = StandardScaler(with_mean=False)  # good with sparse matrices from get_dummies\n",
        "X_small_scaled = scaler.fit_transform(X_small)"
      ],
      "metadata": {
        "id": "7eI22pJp-N4t"
      },
      "execution_count": 8,
      "outputs": []
    },
    {
      "cell_type": "code",
      "source": [
        "# 7) K-Means (k=4)\n",
        "kmeans = KMeans(n_clusters=4, random_state=42, n_init=10)\n",
        "clusters = kmeans.fit_predict(X_small_scaled)\n",
        "\n",
        "# Cluster summary (churn rate per cluster)\n",
        "tmp = pd.DataFrame({\"cluster\": clusters, \"churn\": y_small.values})\n",
        "cluster_summary = tmp.groupby(\"cluster\")[\"churn\"].agg([\"mean\", \"count\"]).reset_index()\n",
        "cluster_summary.rename(columns={\"mean\": \"churn_rate\", \"count\": \"num_customers\"}, inplace=True)\n",
        "\n",
        "print(\"\\nCluster summary (k=4 on sample):\")\n",
        "print(cluster_summary)"
      ],
      "metadata": {
        "colab": {
          "base_uri": "https://localhost:8080/"
        },
        "id": "L7w00o23-UUi",
        "outputId": "dbe4c329-955f-4f00-d703-7258ae1c242e"
      },
      "execution_count": 15,
      "outputs": [
        {
          "output_type": "stream",
          "name": "stdout",
          "text": [
            "\n",
            "Cluster summary (k=4 on sample):\n",
            "   cluster  churn_rate  num_customers\n",
            "0        0    0.895604            546\n",
            "1        1    0.925725           1104\n",
            "2        2    0.758621             87\n",
            "3        3    0.756654            263\n"
          ]
        }
      ]
    },
    {
      "cell_type": "code",
      "source": [
        "# 8) Train/Test split for Logistic Regression\n",
        "X_train, X_test, y_train, y_test = train_test_split(\n",
        "    X_small, y_small, test_size=0.3, random_state=42, stratify=y_small\n",
        ")\n",
        "# Scale train/test\n",
        "scaler_lr = StandardScaler(with_mean=False)\n",
        "X_train_scaled = scaler_lr.fit_transform(X_train)\n",
        "X_test_scaled = scaler_lr.transform(X_test)"
      ],
      "metadata": {
        "id": "gIWlWk0O-gXG"
      },
      "execution_count": 12,
      "outputs": []
    },
    {
      "cell_type": "code",
      "source": [
        "# 9) Logistic Regression + AUC\n",
        "logit = LogisticRegression(max_iter=1000, solver=\"lbfgs\")\n",
        "logit.fit(X_train_scaled, y_train)\n",
        "y_pred_proba = logit.predict_proba(X_test_scaled)[:, 1]\n",
        "\n",
        "auc = roc_auc_score(y_test, y_pred_proba)\n",
        "print(f\"\\nAUC: {auc:.3f}\")"
      ],
      "metadata": {
        "colab": {
          "base_uri": "https://localhost:8080/"
        },
        "id": "x14UpGVS-lao",
        "outputId": "9384953e-df6d-4a7b-fc7e-3822b739795c"
      },
      "execution_count": 13,
      "outputs": [
        {
          "output_type": "stream",
          "name": "stdout",
          "text": [
            "\n",
            "AUC: 0.737\n"
          ]
        }
      ]
    },
    {
      "cell_type": "code",
      "source": [
        "# 10) Feature importance (by absolute coefficient)\n",
        "coefs = pd.DataFrame({\n",
        "    \"Feature\": X_small.columns,\n",
        "    \"Coefficient\": logit.coef_[0]\n",
        "})\n",
        "coefs[\"AbsCoefficient\"] = coefs[\"Coefficient\"].abs()\n",
        "top10 = coefs.sort_values(\"AbsCoefficient\", ascending=False).head(10)\n",
        "\n",
        "print(\"\\nTop 10 features by absolute coefficient:\")\n",
        "print(top10)"
      ],
      "metadata": {
        "colab": {
          "base_uri": "https://localhost:8080/"
        },
        "id": "c-zo1b08-plO",
        "outputId": "5fef0ce0-e501-40ff-de0c-6d594caff463"
      },
      "execution_count": 14,
      "outputs": [
        {
          "output_type": "stream",
          "name": "stdout",
          "text": [
            "\n",
            "Top 10 features by absolute coefficient:\n",
            "                Feature  Coefficient  AbsCoefficient\n",
            "21          default_yes     0.440630        0.440630\n",
            "35     poutcome_success    -0.355191        0.355191\n",
            "7      job_entrepreneur     0.352792        0.352792\n",
            "3              campaign     0.331374        0.331374\n",
            "19  education_secondary     0.318862        0.318862\n",
            "31            month_may     0.276964        0.276964\n",
            "10            job_other     0.268087        0.268087\n",
            "32            month_nov     0.267068        0.267068\n",
            "33            month_oct    -0.255655        0.255655\n",
            "9        job_management     0.174238        0.174238\n"
          ]
        }
      ]
    }
  ]
}